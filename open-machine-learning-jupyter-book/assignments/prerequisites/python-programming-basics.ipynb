{
 "cells": [
  {
   "cell_type": "markdown",
   "metadata": {},
   "source": [
    "<details><summary><b>LICENSE</b></summary>\n",
    "\n",
    "MIT License\n",
    "\n",
    "Copyright (c) 2018 Oleksii Trekhleb\n",
    "\n",
    "Permission is hereby granted, free of charge, to any person obtaining a copy\n",
    "of this software and associated documentation files (the \"Software\"), to deal\n",
    "in the Software without restriction, including without limitation the rights\n",
    "to use, copy, modify, merge, publish, distribute, sublicense, and/or sell\n",
    "copies of the Software, and to permit persons to whom the Software is\n",
    "furnished to do so, subject to the following conditions:\n",
    "\n",
    "The above copyright notice and this permission notice shall be included in all\n",
    "copies or substantial portions of the Software.\n",
    "\n",
    "THE SOFTWARE IS PROVIDED \"AS IS\", WITHOUT WARRANTY OF ANY KIND, EXPRESS OR\n",
    "IMPLIED, INCLUDING BUT NOT LIMITED TO THE WARRANTIES OF MERCHANTABILITY,\n",
    "FITNESS FOR A PARTICULAR PURPOSE AND NONINFRINGEMENT. IN NO EVENT SHALL THE\n",
    "AUTHORS OR COPYRIGHT HOLDERS BE LIABLE FOR ANY CLAIM, DAMAGES OR OTHER\n",
    "LIABILITY, WHETHER IN AN ACTION OF CONTRACT, TORT OR OTHERWISE, ARISING FROM,\n",
    "OUT OF OR IN CONNECTION WITH THE SOFTWARE OR THE USE OR OTHER DEALINGS IN THE\n",
    "SOFTWARE.\n",
    "\n",
    "</details>"
   ]
  },
  {
   "cell_type": "markdown",
   "metadata": {},
   "source": [
    "Python programming basics"
   ]
  },
  {
   "cell_type": "code",
   "execution_count": null,
   "metadata": {},
   "outputs": [],
   "source": [
    "import pytest\n",
    "import ipytest\n",
    "import unittest\n",
    "\n",
    "ipytest.autoconfig()"
   ]
  },
  {
   "cell_type": "markdown",
   "metadata": {
    "tags": []
   },
   "source": [
    "## String"
   ]
  },
  {
   "cell_type": "markdown",
   "metadata": {},
   "source": [
    "### `str.upper()`, `str.lower()`, `str.title()`\n",
    "\n",
    "Fill `____` pieces below to have correct values for `lower_cased`, `upper_cased` and `title_cased` variables."
   ]
  },
  {
   "cell_type": "code",
   "execution_count": null,
   "metadata": {},
   "outputs": [],
   "source": [
    "original = 'Python strings are COOL!'"
   ]
  },
  {
   "cell_type": "code",
   "execution_count": null,
   "metadata": {},
   "outputs": [],
   "source": [
    "# Your solution here:\n",
    "def string_lower_cased(string):\n",
    "    return string.lower()\n",
    "\n",
    "lower_cased = string_lower_cased(original)\n",
    "lower_cased"
   ]
  },
  {
   "cell_type": "code",
   "execution_count": null,
   "metadata": {},
   "outputs": [],
   "source": [
    "def string_upper_cased(string):\n",
    "    return string.upper()\n",
    "\n",
    "upper_cased = string_upper_cased(original)\n",
    "upper_cased"
   ]
  },
  {
   "cell_type": "code",
   "execution_count": null,
   "metadata": {},
   "outputs": [],
   "source": [
    "def string_title_cased(string):\n",
    "    return string.title()\n",
    "\n",
    "title_cased = string_title_cased(original)\n",
    "title_cased"
   ]
  },
  {
   "cell_type": "markdown",
   "metadata": {},
   "source": [
    "<h5><font color=blue>Check result by executing below... </font></h5>"
   ]
  },
  {
   "cell_type": "code",
   "execution_count": null,
   "metadata": {},
   "outputs": [],
   "source": [
    "%%ipytest -qq\n",
    "\n",
    "def create_test_string_cased():\n",
    "    string = 'ABCDEFGhijklmn'\n",
    "    return string\n",
    "    \n",
    "\n",
    "class TestStringLower(unittest.TestCase):\n",
    "\n",
    "    def test_string_lower_cased(self):\n",
    "        # assign\n",
    "        test_string = create_test_string_cased()\n",
    "        \n",
    "        # act\n",
    "        actual_result = string_lower_cased(test_string)\n",
    "\n",
    "        # assert\n",
    "        assert actual_result == 'abcdefghijklmn'\n",
    "\n",
    "class TestStringUpper(unittest.TestCase):\n",
    "\n",
    "    def test_string_upper_cased(self):\n",
    "        # assign\n",
    "        test_string = create_test_string_cased()\n",
    "        \n",
    "        # act\n",
    "        actual_result = string_upper_cased(test_string)\n",
    "\n",
    "        # assert\n",
    "        assert actual_result == 'ABCDEFGHIJKLMN'        \n",
    "\n",
    "class TestStringTitle(unittest.TestCase):\n",
    "\n",
    "    def test_string_title_cased(self):\n",
    "        # assign\n",
    "        test_string = create_test_string_cased()\n",
    "        \n",
    "        # act\n",
    "        actual_result = string_title_cased(test_string)\n",
    "\n",
    "        # assert\n",
    "        assert actual_result == 'Abcdefghijklmn' "
   ]
  },
  {
   "cell_type": "markdown",
   "metadata": {},
   "source": [
    "### `str.replace()`"
   ]
  },
  {
   "cell_type": "code",
   "execution_count": null,
   "metadata": {},
   "outputs": [],
   "source": [
    "my_string = 'Python is my favorite programming language!'"
   ]
  },
  {
   "cell_type": "code",
   "execution_count": null,
   "metadata": {},
   "outputs": [],
   "source": [
    "# Your solution here\n",
    "def original_string_replaced_cased(string,strpiece1,strpiece2):\n",
    "    return string.replace(strpiece1,strpiece2)\n",
    "\n",
    "my_modified_string = original_string_replaced_cased(my_string,' is ',' will be ')\n",
    "\n",
    "# my_string = 'Python is my favorite programming language!'\n",
    "# my_modified_string=my_string.replace(' is ',' will be ')\n",
    "\n",
    "print(my_modified_string)"
   ]
  },
  {
   "cell_type": "markdown",
   "metadata": {
    "tags": []
   },
   "source": [
    "<h5><font color=blue>Check result by executing below... </font></h5>"
   ]
  },
  {
   "cell_type": "code",
   "execution_count": null,
   "metadata": {},
   "outputs": [],
   "source": [
    "%%ipytest -qq\n",
    "\n",
    "def create_test_string_cased():\n",
    "    string = 'I am 22'\n",
    "    return string\n",
    "    \n",
    "class TestStringReplaced(unittest.TestCase):\n",
    "\n",
    "    def test_string_replaced_cased(self):\n",
    "        # assign\n",
    "        test_string = create_test_string_cased()\n",
    "        \n",
    "        # act\n",
    "        actual_result = original_string_replaced_cased(test_string,' am ',' will be ')\n",
    "\n",
    "        # assert\n",
    "        assert actual_result == 'I will be 22'"
   ]
  },
  {
   "cell_type": "markdown",
   "metadata": {},
   "source": [
    "### `str.format()`"
   ]
  },
  {
   "cell_type": "markdown",
   "metadata": {},
   "source": [
    "exemple = '{} is cool.'.format('Python')"
   ]
  },
  {
   "cell_type": "markdown",
   "metadata": {},
   "source": [
    "print(exemple)"
   ]
  },
  {
   "cell_type": "markdown",
   "metadata": {},
   "source": [
    "The result will be :Python is cool."
   ]
  },
  {
   "cell_type": "code",
   "execution_count": null,
   "metadata": {},
   "outputs": [],
   "source": [
    "secret = ' {} is my favourite programming language. '"
   ]
  },
  {
   "cell_type": "code",
   "execution_count": null,
   "metadata": {},
   "outputs": [],
   "source": [
    "# Your solution here\n",
    "def original_string_format_cased(string,strpiece1):\n",
    "    return string.format(strpiece1)\n",
    "\n",
    "my_format_string = original_string_format_cased(secret,'Python')\n",
    "\n",
    "print(my_format_string)"
   ]
  },
  {
   "cell_type": "markdown",
   "metadata": {
    "tags": []
   },
   "source": [
    "<h5><font color=blue>Check result by executing below... </font></h5>"
   ]
  },
  {
   "cell_type": "code",
   "execution_count": null,
   "metadata": {},
   "outputs": [],
   "source": [
    "   %%ipytest -qq\n",
    "\n",
    "def create_test_string_cased():\n",
    "    string='I {} 22'\n",
    "    return string\n",
    "    \n",
    "class TestStringFormat(unittest.TestCase):\n",
    "\n",
    "    def test_string_format_cased(self):\n",
    "        # assign\n",
    "        test_string = create_test_string_cased()\n",
    "        \n",
    "        # act\n",
    "        actual_result = original_string_format_cased(test_string,'am')\n",
    "\n",
    "        # assert\n",
    "        assert actual_result == 'I am 22'\n",
    "        \n",
    "    # exception1\n",
    "    def test_invalid_cased(self):\n",
    "          with pytest.raises(Exception):\n",
    "                actual_result = original_string_format_cased(test_string, 1)\n",
    "                \n",
    "    # exception2\n",
    "    def test_invalid_cased(self):\n",
    "        with pytest.raises(Exception):\n",
    "            actual_result = original_string_format_cased()\n",
    "    \n",
    "    # exception3\n",
    "    def test_invalid_cased(self) :\n",
    "        with pytest.raises(Exception) :\n",
    "            actual_result = original_string_format_cased(None)\n",
    "                                           \n",
    "                                           \n",
    "    # exception4\n",
    "    def test_invalid_cased(self):\n",
    "        with pytest.raises(Exception):\n",
    "            actual_result = original_string_format_cased(test_string,'am', \"a\")                                                                        "
   ]
  },
  {
   "cell_type": "markdown",
   "metadata": {},
   "source": [
    "### `str.join()`"
   ]
  },
  {
   "cell_type": "code",
   "execution_count": null,
   "metadata": {},
   "outputs": [],
   "source": [
    "pandas = 'pandas'\n",
    "numpy = 'numpy'\n",
    "requests = 'requests'"
   ]
  },
  {
   "cell_type": "code",
   "execution_count": null,
   "metadata": {},
   "outputs": [],
   "source": [
    "# Your solution here:\n",
    "def original_string_join_cased(string):\n",
    "    return ' '.join(string)\n",
    "\n",
    "my_format_string = original_string_join_cased([ 'pandas' , 'numpy' , 'requests' ])\n",
    "\n",
    "print(my_format_string)\n",
    "\n",
    "#cool_python_libs =', '.join(['pandas','numpy','requests'])"
   ]
  },
  {
   "cell_type": "markdown",
   "metadata": {},
   "source": [
    "<h5><font color=blue>Check result by executing below... </font></h5>"
   ]
  },
  {
   "cell_type": "code",
   "execution_count": null,
   "metadata": {},
   "outputs": [],
   "source": [
    "%%ipytest -qq\n",
    "\n",
    "def create_test_string_cased():\n",
    "    string1='I'\n",
    "    string2='am'\n",
    "    string3='22'\n",
    "    return string1,string2,string3\n",
    "    \n",
    "class TestStringJoin(unittest.TestCase):\n",
    "\n",
    "    def test_string_join_cased(self):\n",
    "        # assign\n",
    "        test_string = create_test_string_cased()\n",
    "        \n",
    "        # act\n",
    "        actual_result = original_string_join_cased(['I','am','22'])\n",
    "\n",
    "        # assert\n",
    "        assert actual_result == 'I am 22'\n",
    "        \n",
    "        \n",
    "    # exception1\n",
    "    def test_invalid_cased(self):\n",
    "        with pytest.raises(Exception):\n",
    "            actual_result = original_string_join_cased(['I','am','22',\"aaa\"]) \n",
    "            \n",
    "    # exception2\n",
    "    def test_invalid_cased(self):\n",
    "        with pytest.raises(Exception):\n",
    "            actual_result = original_string_join_cased(None)\n",
    "            \n",
    "    # exception3\n",
    "    def test_invalid_cased(self):\n",
    "        with pytest.raises(Exception):\n",
    "            actual_result = original_string_join_cased('I','am','22',\"aaa\")"
   ]
  },
  {
   "cell_type": "markdown",
   "metadata": {},
   "source": [
    "### `str.strip()`"
   ]
  },
  {
   "cell_type": "code",
   "execution_count": null,
   "metadata": {},
   "outputs": [],
   "source": [
    "ugly_formatted = ' \\n \\t Some story to tell '"
   ]
  },
  {
   "cell_type": "code",
   "execution_count": null,
   "metadata": {},
   "outputs": [],
   "source": [
    "# Your solution here\n",
    "def original_string_ugly_formatted_cased(string):\n",
    "    return string.strip()\n",
    "\n",
    "my_modified_string = original_string_ugly_formatted_cased(ugly_formatted)\n",
    "\n",
    "print(my_modified_string)"
   ]
  },
  {
   "cell_type": "markdown",
   "metadata": {},
   "source": [
    "# Your solution:\n",
    "#stripped =ugly_formatted.strip()"
   ]
  },
  {
   "cell_type": "markdown",
   "metadata": {},
   "source": [
    "<h5><font color=blue>Check result by executing below... </font></h5>"
   ]
  },
  {
   "cell_type": "code",
   "execution_count": null,
   "metadata": {},
   "outputs": [],
   "source": [
    "%%ipytest -qq\n",
    "\n",
    "def create_test_string_cased():\n",
    "    string = '\\n \\t I am 22'\n",
    "    return string\n",
    "    \n",
    "class TestStringStrip(unittest.TestCase):\n",
    "\n",
    "    def test_string_strip_cased(self):\n",
    "        # assign\n",
    "        test_string = create_test_string_cased()\n",
    "        \n",
    "        # act\n",
    "        actual_result = original_string_ugly_formatted_cased(test_string)\n",
    "\n",
    "        # assert\n",
    "        assert actual_result == 'I am 22'\n",
    "        \n",
    "    # exception1\n",
    "    def test_invalid_cased(self):\n",
    "        with pytest.raises(Exception):\n",
    "            actual_result = original_string_ugly_formatted_cased(None)\n",
    "    \n",
    "    # exception2\n",
    "    def test_invalid_cased(self):\n",
    "        with pytest.raises(Exception):\n",
    "            actual_result = original_string_ugly_formatted_cased('hello',\"world\")"
   ]
  },
  {
   "cell_type": "markdown",
   "metadata": {},
   "source": [
    "### `str.split()`"
   ]
  },
  {
   "cell_type": "code",
   "execution_count": null,
   "metadata": {},
   "outputs": [],
   "source": [
    "sentence = 'three different words'"
   ]
  },
  {
   "cell_type": "code",
   "execution_count": null,
   "metadata": {},
   "outputs": [],
   "source": [
    "# Your solution here\n",
    "def original_string_split_cased(string):\n",
    "    return string.split()\n",
    "\n",
    "my_modified_string = original_string_split_cased(sentence)\n",
    "\n",
    "print(my_modified_string)"
   ]
  },
  {
   "cell_type": "markdown",
   "metadata": {},
   "source": [
    "<h5><font color=blue>Check result by executing below... </font></h5>"
   ]
  },
  {
   "cell_type": "code",
   "execution_count": null,
   "metadata": {},
   "outputs": [],
   "source": [
    "%%ipytest -qq\n",
    "\n",
    "def create_test_string_cased():\n",
    "    string = 'I am 22'\n",
    "    return string\n",
    "    \n",
    "class TestStringSplit(unittest.TestCase):\n",
    "\n",
    "    def test_string_split_cased(self):\n",
    "        # assign\n",
    "        test_string = create_test_string_cased()\n",
    "        \n",
    "        # act\n",
    "        actual_result = original_string_split_cased(test_string)\n",
    "\n",
    "        # assert\n",
    "        assert actual_result == ['I', 'am', '22'] \n",
    "    \n",
    "     # exception1\n",
    "    def test_invalidt_cased(self):\n",
    "        with pytest.raises(Exception):\n",
    "            actual_result = original_string_split_cased(None)\n",
    "    \n",
    "    \n",
    "    # exception2\n",
    "    def test_invalidt_cased(self):\n",
    "        with pytest.raises(Exception):\n",
    "            actual_result = original_string_split_cased('hello',\"world\")"
   ]
  },
  {
   "cell_type": "markdown",
   "metadata": {},
   "source": [
    "### `\\n`, `\\t`"
   ]
  },
  {
   "cell_type": "code",
   "execution_count": null,
   "metadata": {},
   "outputs": [],
   "source": [
    "two_lines = 'First line\\nSecond line'\n",
    "indented = '\\tThis will be indented'\n",
    "print(two_lines)\n",
    "print(indented)"
   ]
  },
  {
   "cell_type": "code",
   "execution_count": null,
   "metadata": {},
   "outputs": [],
   "source": [
    "assert two_lines == '''First line\n",
    "Second line'''\n",
    "assert indented == '\tThis will be indented'"
   ]
  },
  {
   "cell_type": "markdown",
   "metadata": {
    "tags": []
   },
   "source": [
    "## Numbers"
   ]
  },
  {
   "cell_type": "markdown",
   "metadata": {},
   "source": [
    "### Creating formulas\n",
    "\n",
    "Write the following mathematical formula in Python:\n",
    "\n",
    "$result = 6a^3 - \\frac{8b^2 }{4c} + 11$\n"
   ]
  },
  {
   "cell_type": "code",
   "execution_count": null,
   "metadata": {},
   "outputs": [],
   "source": [
    "a = 2\n",
    "b = 3\n",
    "c = 2"
   ]
  },
  {
   "cell_type": "code",
   "execution_count": null,
   "metadata": {},
   "outputs": [],
   "source": [
    "# Your formula here:\n",
    "def numbers_formula_cased(a,b,c):\n",
    "    return 6*a**3-(8*b**2)/(4*c)+11\n",
    "result = numbers_formula_cased(a,b,c)\n",
    "print(result)"
   ]
  },
  {
   "cell_type": "markdown",
   "metadata": {},
   "source": [
    "<h5><font color=blue>Check result by executing below... </font></h5>"
   ]
  },
  {
   "cell_type": "code",
   "execution_count": null,
   "metadata": {},
   "outputs": [],
   "source": [
    "%%ipytest -qq\n",
    "\n",
    "class TestNumbersFormula(unittest.TestCase):\n",
    "    def test_numbers_formula_cased(self):\n",
    "        #assign\n",
    "        a = 2\n",
    "        b = 3\n",
    "        c = 2\n",
    "        \n",
    "        # act \n",
    "        actual_result = numbers_formula_cased(a,b,c)\n",
    "\n",
    "        # assert\n",
    "        assert actual_result == 50\n",
    "        \n",
    "    # exception1\n",
    "    def test_invalid_cased(self):\n",
    "          with pytest.raises(Exception):\n",
    "                  actual_result = numbers_formula_cased(a,b,\"3\")\n",
    "                    \n",
    "  \n",
    "    # exception2\n",
    "    def test_invalid_cased(self):\n",
    "        with pytest.raises(Exception):\n",
    "            actual_result = numbers_formula_cased()\n",
    "    \n",
    "    # exception3\n",
    "    def test_invalid_cased(self) :\n",
    "        with pytest.raises(Exception) :\n",
    "            actual_result = numbers_formula_cased(None)\n",
    "                                           \n",
    "                                           \n",
    "    # exception4\n",
    "    def test_invalid_cased(self):\n",
    "        with pytest.raises(Exception):\n",
    "            actual_result = numbers_formula_cased(1,2,3,4,5)"
   ]
  },
  {
   "cell_type": "markdown",
   "metadata": {
    "tags": []
   },
   "source": [
    "### Floating point pitfalls\n",
    "\n",
    "Make assertion for `0.1 + 0.2 == 0.3`"
   ]
  },
  {
   "cell_type": "code",
   "execution_count": null,
   "metadata": {},
   "outputs": [],
   "source": [
    "# This won't work:\n",
    "#assert 0.1 + 0.2 == 0.3\n",
    "\n",
    "# Your solution here:\n",
    "assert int(0.1)+int(0.2) == int(0.3)"
   ]
  },
  {
   "cell_type": "markdown",
   "metadata": {
    "tags": []
   },
   "source": [
    "### Floor division `//`, modulus `%`, power `**`"
   ]
  },
  {
   "cell_type": "code",
   "execution_count": null,
   "metadata": {},
   "outputs": [],
   "source": [
    "assert 7 // 5 == 1\n",
    "assert 7 % 5 == 2\n",
    "assert 2 ** 3 == 8 "
   ]
  },
  {
   "cell_type": "markdown",
   "metadata": {},
   "source": [
    "## Lists"
   ]
  },
  {
   "cell_type": "markdown",
   "metadata": {},
   "source": [
    "### `list.append()`, `list.remove()`, mutable"
   ]
  },
  {
   "cell_type": "code",
   "execution_count": null,
   "metadata": {},
   "outputs": [],
   "source": [
    "# Let's create an empty list.\n",
    "my_list = []"
   ]
  },
  {
   "cell_type": "code",
   "execution_count": null,
   "metadata": {},
   "outputs": [],
   "source": [
    "def original_list_cased(my_list):\n",
    "        # Let's add some values\n",
    "        my_list.append('Python')\n",
    "        my_list.append('is ok')\n",
    "        my_list.append('sometimes')\n",
    "\n",
    "        # Let's remove 'sometimes'\n",
    "        my_list.remove('sometimes')\n",
    "\n",
    "        # Let's change the second item\n",
    "        my_list[1] = 'is neat'\n",
    "        \n",
    "        return my_list\n",
    "    \n",
    "\n",
    "original_list_cased([])   "
   ]
  },
  {
   "cell_type": "code",
   "execution_count": null,
   "metadata": {},
   "outputs": [],
   "source": [
    "%%ipytest -qq\n",
    "\n",
    "class TestLists(unittest.TestCase):\n",
    "   \n",
    "    \n",
    "    def test_lists_cased(self):\n",
    "        #assign\n",
    "        my_list = []\n",
    "        \n",
    "        # act \n",
    "        actual_result = original_list_cased(my_list)\n",
    "\n",
    "        # assert\n",
    "        assert my_list == ['Python', 'is neat']\n",
    "    \n",
    "    # exception1\n",
    "    def test_invalid_cased(self):\n",
    "          with pytest.raises(Exception):\n",
    "                  actual_result = original_list_cased(None)\n",
    "                    \n",
    "  \n",
    "    # exception2\n",
    "    def test_invalid_cased(self):\n",
    "        with pytest.raises(Exception):\n",
    "            actual_result = original_list_cased()\n",
    "    \n",
    "    # exception3\n",
    "    def test_invalid_cased(self) :\n",
    "        with pytest.raises(Exception) :\n",
    "            actual_result = original_list_cased(1,2,3)"
   ]
  },
  {
   "cell_type": "markdown",
   "metadata": {},
   "source": [
    "### Slice\n",
    "\n",
    "Create a new list without modifiying the original one."
   ]
  },
  {
   "cell_type": "code",
   "execution_count": null,
   "metadata": {
    "editable": false
   },
   "outputs": [],
   "source": [
    "original = ['I', 'am', 'learning', 'hacking', 'in']"
   ]
  },
  {
   "cell_type": "code",
   "execution_count": null,
   "metadata": {},
   "outputs": [],
   "source": [
    "# Your implementation here\n",
    "# modefied=[]\n",
    "# modefied.extend(original[slice(3)])\n",
    "# modefied.extend(['lists','in','Python'])\n",
    "# print(modefied)\n",
    "def modify_cased(li):\n",
    "    li[3:] = ['lists', 'in', 'Python']\n",
    "    return li\n",
    "\n",
    "modify_cased(['I', 'am', 'learning', 'hacking', 'in'])"
   ]
  },
  {
   "cell_type": "code",
   "execution_count": null,
   "metadata": {},
   "outputs": [],
   "source": [
    "%%ipytest -qq\n",
    "\n",
    "class TestLists(unittest.TestCase):\n",
    "   \n",
    "    \n",
    "    def test_slice_cased(self):\n",
    "        #assign\n",
    "        my_list = ['I', 'am', 'learning', 'lists', 'in', 'Python']\n",
    "        \n",
    "        # act \n",
    "        actual_result = modify_cased(my_list)\n",
    "\n",
    "        # assert\n",
    "        assert my_list == ['I', 'am', 'learning', 'lists', 'in', 'Python']\n",
    "        \n",
    "    # exception1\n",
    "    def test_invalid_cased(self):\n",
    "          with pytest.raises(Exception):\n",
    "                  actual_result = modify_cased([])\n",
    "                    \n",
    "    # exception2\n",
    "    def test_invalid_cased(self):\n",
    "        with pytest.raises(Exception):\n",
    "            actual_result = modify_cased(None)\n",
    "    \n",
    "    # exception3\n",
    "    def test_invalid_cased(self) :\n",
    "        with pytest.raises(Exception) :\n",
    "            actual_result = modify_cased(\"\")\n",
    "                                           \n",
    "                                           \n",
    "    # exception4\n",
    "    def test_invalid_cased(self):\n",
    "        with pytest.raises(Exception):\n",
    "            actual_result = modify_cased([1,2],[3,4])"
   ]
  },
  {
   "cell_type": "markdown",
   "metadata": {},
   "source": [
    "### `list.extend()`"
   ]
  },
  {
   "cell_type": "code",
   "execution_count": null,
   "metadata": {},
   "outputs": [],
   "source": [
    "first_list = ['beef', 'ham']\n",
    "second_list = ['potatoes', 1, 3]"
   ]
  },
  {
   "cell_type": "code",
   "execution_count": null,
   "metadata": {},
   "outputs": [],
   "source": [
    "# Your solution:\n",
    "# use `extend()\n",
    "def extend_test_cased(li1,li2):\n",
    "    li1.extend(li2)\n",
    "    return li1[slice(4)]\n",
    "\n",
    "extend_test_cased([\"beef\",\"ham\"],[\"potatoes\",1,2])"
   ]
  },
  {
   "cell_type": "code",
   "execution_count": null,
   "metadata": {},
   "outputs": [],
   "source": [
    "%%ipytest -qq\n",
    "\n",
    "class TestLists(unittest.TestCase):\n",
    "   \n",
    "    \n",
    "    def test_extend_cased(self):\n",
    "        #assign\n",
    "        first_list = ['beef', 'ham']\n",
    "        second_list = ['potatoes', 1, 3]\n",
    "        \n",
    "        # act \n",
    "        actual_result = extend_test_cased(first_list,second_list)\n",
    "\n",
    "        # assert\n",
    "        assert actual_result == ['beef', 'ham', 'potatoes', 1]\n",
    "        \n",
    "    # exception1\n",
    "    def test_invalid_cased(self):\n",
    "          with pytest.raises(Exception):\n",
    "                  actual_result = extend_test_cased([])\n",
    "                    \n",
    "    # exception2\n",
    "    def test_invalid_cased(self):\n",
    "        with pytest.raises(Exception):\n",
    "            actual_result = extend_test_cased(None)\n",
    "    \n",
    "    # exception3\n",
    "    def test_invalid_cased(self) :\n",
    "        with pytest.raises(Exception) :\n",
    "            actual_result = extend_test_cased(\"1\")\n"
   ]
  },
  {
   "cell_type": "code",
   "execution_count": null,
   "metadata": {},
   "outputs": [],
   "source": [
    "third_list = ['beef', 'ham']\n",
    "forth_list = ['potatoes', 1, 3]"
   ]
  },
  {
   "cell_type": "code",
   "execution_count": null,
   "metadata": {},
   "outputs": [],
   "source": [
    "# Your soultion:\n",
    "# use `+` operator\n",
    "def merge_list_cased(li1,li2):\n",
    "    merged_list_cased = li1 + li2\n",
    "    return merged_list_cased[slice(4)]\n",
    "\n",
    "extend_test_cased([\"beef\",\"ham\"],[\"potatoes\",1,2])"
   ]
  },
  {
   "cell_type": "code",
   "execution_count": null,
   "metadata": {},
   "outputs": [],
   "source": [
    "\n",
    "%%ipytest -qq\n",
    "\n",
    "class TestLists(unittest.TestCase):\n",
    "   \n",
    "    \n",
    "    def test_extend_cased(self):\n",
    "        #assign\n",
    "        third_list = ['beef', 'ham']\n",
    "        forth_list = ['potatoes', 1, 3]\n",
    "        \n",
    "        # act \n",
    "        actual_result = merge_list_cased(third_list,forth_list)\n",
    "\n",
    "        # assert\n",
    "        assert actual_result == ['beef', 'ham', 'potatoes', 1]\n",
    "        \n",
    "    # exception1\n",
    "    def test_invalid_cased(self):\n",
    "          with pytest.raises(Exception):\n",
    "                  actual_result = merge_list_cased()\n",
    "                    \n",
    "    # exception2\n",
    "    def test_invalid_cased(self):\n",
    "        with pytest.raises(Exception):\n",
    "            actual_result = extend_test_cased(None)\n",
    "    \n",
    "    # exception3\n",
    "    def test_invalid_cased(self) :\n",
    "        with pytest.raises(Exception) :\n",
    "            actual_result = extend_test_cased(\"1\")\n",
    "                                              \n",
    "    # exception4\n",
    "    def test_invalid_cased(self):\n",
    "        with pytest.raises(Exception):\n",
    "            actual_result = extend_test_cased([1,2],[3,4],[5,6])"
   ]
  },
  {
   "cell_type": "markdown",
   "metadata": {},
   "source": [
    "### `list.sort()`\n",
    "\n",
    "Create a merged sorted list."
   ]
  },
  {
   "cell_type": "code",
   "execution_count": null,
   "metadata": {
    "editable": false
   },
   "outputs": [],
   "source": [
    "my_list = [6, 12, 5]"
   ]
  },
  {
   "cell_type": "code",
   "execution_count": null,
   "metadata": {},
   "outputs": [],
   "source": [
    "# Your implementation here\n",
    "def sort_list_cased(li):\n",
    "    li.sort(reverse=True)\n",
    "    return li\n",
    "\n",
    "sort_list_cased(my_list)"
   ]
  },
  {
   "cell_type": "code",
   "execution_count": null,
   "metadata": {},
   "outputs": [],
   "source": [
    "%%ipytest -qq\n",
    "\n",
    "class TestLists(unittest.TestCase):\n",
    "   \n",
    "    \n",
    "    def test_sort_cased(self):\n",
    "        #assign\n",
    "        my_list = [12,6,5]\n",
    "        \n",
    "        # act \n",
    "        actual_result = sort_list_cased(my_list)\n",
    "\n",
    "        # assert\n",
    "        assert actual_result == [12, 6, 5]\n",
    "        \n",
    "    # exception1\n",
    "    def test_invalid_cased(self):\n",
    "          with pytest.raises(Exception):\n",
    "                actual_result = sort_list_cased([\"8\",12,6,5])\n",
    "    \n",
    "    \n",
    "    # exception2\n",
    "    def test_invalid_cased(self):\n",
    "          with pytest.raises(Exception):\n",
    "                  actual_result = sort_list_cased()\n",
    "                    \n",
    "    # exception3\n",
    "    def test_invalid_cased(self):\n",
    "        with pytest.raises(Exception):\n",
    "            actual_result = sort_list_cased(None)\n",
    "                       \n",
    "    # exception4\n",
    "    def test_invalid_cased(self):\n",
    "        with pytest.raises(Exception):\n",
    "            actual_result = sort_list_cased([1,2],[3,4],[5,6])"
   ]
  },
  {
   "cell_type": "markdown",
   "metadata": {},
   "source": [
    "### `sorted(list)`"
   ]
  },
  {
   "cell_type": "code",
   "execution_count": null,
   "metadata": {},
   "outputs": [],
   "source": [
    "numbers = [8, 1, 6, 5, 10]"
   ]
  },
  {
   "cell_type": "code",
   "execution_count": null,
   "metadata": {},
   "outputs": [],
   "source": [
    "def list_sorted_cased(li):\n",
    "    sorted_numbers =sorted(li)\n",
    "    return sorted_numbers\n",
    "\n",
    "list_sorted_cased(numbers)"
   ]
  },
  {
   "cell_type": "code",
   "execution_count": null,
   "metadata": {},
   "outputs": [],
   "source": [
    "%%ipytest -qq\n",
    "\n",
    "class TestLists(unittest.TestCase):\n",
    "   \n",
    "    \n",
    "    def test_sort_cased(self):\n",
    "        #assign\n",
    "        mylist = [8, 1, 6, 5, 10]\n",
    "        \n",
    "        # act \n",
    "        actual_result = list_sorted_cased(mylist)\n",
    "\n",
    "        # assert\n",
    "        assert actual_result == [1, 5, 6, 8, 10]\n",
    "        \n",
    "    # exception1\n",
    "    def test_invalid_cased(self):\n",
    "          with pytest.raises(Exception):\n",
    "                actual_result = list_sorted_cased([\"8\",12,6,5])\n",
    "    \n",
    "    \n",
    "    # exception2\n",
    "    def test_invalid_cased(self):\n",
    "          with pytest.raises(Exception):\n",
    "                  actual_result = list_sorted_cased()\n",
    "                    \n",
    "    # exception3\n",
    "    def test_invalid_cased(self):\n",
    "        with pytest.raises(Exception):\n",
    "            actual_result = list_sorted_cased(None)\n",
    "                       \n",
    "    # exception4\n",
    "    def test_invalid_cased(self):\n",
    "        with pytest.raises(Exception):\n",
    "            actual_result = list_sorted_cased([1,2],[3,4],[5,6])"
   ]
  },
  {
   "cell_type": "markdown",
   "metadata": {},
   "source": [
    "### `list.reverse()`"
   ]
  },
  {
   "cell_type": "code",
   "execution_count": null,
   "metadata": {},
   "outputs": [],
   "source": [
    "my_list = [1,2,3,4]"
   ]
  },
  {
   "cell_type": "code",
   "execution_count": null,
   "metadata": {},
   "outputs": [],
   "source": [
    "# Your solution:\n",
    "def list_res_cased(my_list):\n",
    "    my_list.reverse()\n",
    "    return my_list\n",
    "list_res_cased(my_list)"
   ]
  },
  {
   "cell_type": "code",
   "execution_count": null,
   "metadata": {},
   "outputs": [],
   "source": [
    "%%ipytest -qq\n",
    "\n",
    "class TestLists(unittest.TestCase):\n",
    "   \n",
    "    \n",
    "    def test_sort_cased(self):\n",
    "        #assign\n",
    "        mylist = [1,2,3,4]\n",
    "        \n",
    "        # act \n",
    "        actual_result = list_res_cased(mylist)\n",
    "\n",
    "        # assert\n",
    "        assert actual_result == [4,3,2,1]\n",
    "        \n",
    "    # exception1\n",
    "    def test_invalid_cased(self):\n",
    "          with pytest.raises(Exception):\n",
    "                actual_result = list_res_cased([\"8\",12,6,5])\n",
    "    \n",
    "    \n",
    "    # exception2\n",
    "    def test_invalid_cased(self):\n",
    "          with pytest.raises(Exception):\n",
    "                  actual_result = list_res_cased()\n",
    "                    \n",
    "    # exception3\n",
    "    def test_invalid_cased(self):\n",
    "        with pytest.raises(Exception):\n",
    "            actual_result = list_res_cased(None)\n",
    "                       \n",
    "    # exception4\n",
    "    def test_invalid_cased(self):\n",
    "        with pytest.raises(Exception):\n",
    "            actual_result = list_res_cased([1,2],[3,4],[5,6])"
   ]
  },
  {
   "cell_type": "markdown",
   "metadata": {},
   "source": [
    "## Dictionaries"
   ]
  },
  {
   "cell_type": "markdown",
   "metadata": {},
   "source": [
    "### Populating a dictionary\n",
    "\n",
    "Create a dictionary by using all the given variables."
   ]
  },
  {
   "cell_type": "code",
   "execution_count": null,
   "metadata": {
    "editable": false
   },
   "outputs": [],
   "source": [
    "first_name = 'John'\n",
    "last_name = 'Doe'\n",
    "favorite_hobby = 'Python'\n",
    "sports_hobby = 'gym'\n",
    "age = 82"
   ]
  },
  {
   "cell_type": "code",
   "execution_count": null,
   "metadata": {},
   "outputs": [],
   "source": [
    "# Your implementation\n",
    "def com_dic_cased(first_name,last_name,favorite_hobby,sports_hobby,age):\n",
    "    my_dict = {'name':first_name+' '+last_name,'age':age,'hobbies':[favorite_hobby,sports_hobby]}\n",
    "    return my_dict\n",
    "com_dic_cased(first_name,last_name,favorite_hobby,sports_hobby,age)"
   ]
  },
  {
   "cell_type": "code",
   "execution_count": null,
   "metadata": {},
   "outputs": [],
   "source": [
    "%%ipytest -qq\n",
    "\n",
    "class TestDic(unittest.TestCase):\n",
    "   \n",
    "    \n",
    "    def test_dic_cased(self):\n",
    "        #assign\n",
    "        first_name = 'John'\n",
    "        last_name = 'Doe'\n",
    "        favorite_hobby = 'Python'\n",
    "        sports_hobby = 'gym'\n",
    "        age = 82\n",
    "        \n",
    "        # act \n",
    "        actual_result = com_dic_cased(first_name,last_name,favorite_hobby,sports_hobby,age)\n",
    "\n",
    "        # assert\n",
    "        assert actual_result == {'name': 'John Doe', 'age': 82, 'hobbies': ['Python', 'gym']}\n",
    "        \n",
    "    # exception1\n",
    "    def test_invalid_cased(self):\n",
    "          with pytest.raises(Exception):\n",
    "                actual_result = com_dic_cased()\n",
    "    \n",
    "    # exception2\n",
    "    def test_invalid_cased(self):\n",
    "        with pytest.raises(Exception):\n",
    "            actual_result = com_dic_cased(None)\n",
    "                       \n",
    "    # exception3\n",
    "    def test_invalid_cased(self):\n",
    "        with pytest.raises(Exception):\n",
    "            actual_result = com_dic_cased([1,2])\n"
   ]
  },
  {
   "cell_type": "markdown",
   "metadata": {},
   "source": [
    "### `del`"
   ]
  },
  {
   "cell_type": "code",
   "execution_count": null,
   "metadata": {},
   "outputs": [],
   "source": [
    "my_dict = {'key1': 'value1', 'key2': 99, 'keyX': 'valueX'}\n",
    "key_to_delete = 'keyX'"
   ]
  },
  {
   "cell_type": "code",
   "execution_count": null,
   "metadata": {},
   "outputs": [],
   "source": [
    "# Your solution here:\n",
    "# my_dict = {'key1': 'value1', 'key2': 99, 'keyX': 'valueX'}\n",
    "# key_to_delete = 'keyX'\n",
    "def del_dic_cased(my_dict,key_to_delete):\n",
    "    if key_to_delete in my_dict:\n",
    "        del my_dict[key_to_delete]\n",
    "    return my_dict\n",
    "del_dic_cased(my_dict,key_to_delete)"
   ]
  },
  {
   "cell_type": "code",
   "execution_count": null,
   "metadata": {},
   "outputs": [],
   "source": [
    "%%ipytest -qq\n",
    "\n",
    "class TestDic(unittest.TestCase):\n",
    "   \n",
    "    \n",
    "    def test_dic_cased(self):\n",
    "        #assign\n",
    "        my_dict = {'key1': 'value1', 'key2': 99, 'keyX': 'valueX'}\n",
    "        key_to_delete = 'keyX'\n",
    "        \n",
    "        # act \n",
    "        actual_result = del_dic_cased(my_dict,key_to_delete)\n",
    "\n",
    "        # assert\n",
    "        assert actual_result == {'key1': 'value1', 'key2': 99}\n",
    "        \n",
    "    # exception1\n",
    "    def test_invalid_cased(self):\n",
    "          with pytest.raises(Exception):\n",
    "                actual_result = del_dic_cased(my_dict,\"key1\",\"key2\")\n",
    "    \n",
    "    # exception2\n",
    "    def test_invalid_cased(self):\n",
    "          with pytest.raises(Exception):\n",
    "                  actual_result = del_dic_cased()\n",
    "                    \n",
    "    # exception3\n",
    "    def test_invalid_cased(self):\n",
    "        with pytest.raises(Exception):\n",
    "            actual_result = del_dic_cased(None)"
   ]
  },
  {
   "cell_type": "markdown",
   "metadata": {},
   "source": [
    "### Mutable"
   ]
  },
  {
   "cell_type": "code",
   "execution_count": null,
   "metadata": {},
   "outputs": [],
   "source": [
    "my_dict = {'ham': 'good', 'carrot': 'semi good'}"
   ]
  },
  {
   "cell_type": "code",
   "execution_count": null,
   "metadata": {},
   "outputs": [],
   "source": [
    "# Your solution here:\n",
    "def mut_dic_cased(my_dict):\n",
    "    del my_dict[\"ham\"]\n",
    "    my_dict[\"carrot\"]=\"super tasty\"\n",
    "    return my_dict\n",
    "mut_dic_cased(my_dict)"
   ]
  },
  {
   "cell_type": "code",
   "execution_count": null,
   "metadata": {},
   "outputs": [],
   "source": [
    "%%ipytest -qq\n",
    "\n",
    "class TestDic(unittest.TestCase):\n",
    "   \n",
    "    \n",
    "    def test_dic_cased(self):\n",
    "        #assign\n",
    "        my_dict = {'ham': 'good', 'carrot': 'semi good'}\n",
    "        \n",
    "        # act \n",
    "        actual_result = mut_dic_cased(my_dict)\n",
    "\n",
    "        # assert\n",
    "        assert actual_result['carrot'] == 'super tasty'\n",
    "        \n",
    "    # exception1\n",
    "    def test_invalid(self):\n",
    "          with pytest.raises(Exception):\n",
    "                actual_result = mut_dic_cased(my_dict,\"key1\",\"key2\")\n",
    "    \n",
    "    # exception2\n",
    "    def test_invalid(self):\n",
    "          with pytest.raises(Exception):\n",
    "                  actual_result = mut_dic_cased()\n",
    "                    \n",
    "    # exception3\n",
    "    def test_invalid(self):\n",
    "        with pytest.raises(Exception):\n",
    "            actual_result = mut_dic_cased(None)\n",
    "    \n",
    "    # exception4\n",
    "    def test_invalid(self):\n",
    "          with pytest.raises(Exception):\n",
    "                  actual_result = mut_dic_cased(my_dict,\"key3\")"
   ]
  },
  {
   "cell_type": "markdown",
   "metadata": {},
   "source": [
    "### `dict.get()`"
   ]
  },
  {
   "cell_type": "code",
   "execution_count": null,
   "metadata": {},
   "outputs": [],
   "source": [
    "my_dict = {'a': 1, 'b': 2, 'c': 3}\n",
    "key = \"d\""
   ]
  },
  {
   "cell_type": "code",
   "execution_count": null,
   "metadata": {},
   "outputs": [],
   "source": [
    "# Your solution here\n",
    "def get_dic_cased(my_dict,key):\n",
    "    value = my_dict.get(key)\n",
    "    if value == None:\n",
    "        value = \"default value\"\n",
    "    return value\n",
    "get_dic_cased(my_dict, key)"
   ]
  },
  {
   "cell_type": "code",
   "execution_count": null,
   "metadata": {},
   "outputs": [],
   "source": [
    "%%ipytest -qq\n",
    "\n",
    "class TestDic(unittest.TestCase):\n",
    "   \n",
    "    def test_dic_cased(self):\n",
    "        #assign\n",
    "        my_dict = {'a': 1, 'b': 2, 'c': 3}\n",
    "        exist_key = \"a\"\n",
    "        \n",
    "        # act \n",
    "        actual_result = get_dic_cased(my_dict,exist_key)\n",
    "\n",
    "        # assert\n",
    "        assert actual_result == 1\n",
    "        \n",
    "    # exception\n",
    "    def test_invalid_cased(self):\n",
    "          with pytest.raises(Exception):\n",
    "                print(my_dict_cased[d])\n",
    "                \n",
    "                \n",
    "            \n",
    "    # exception1\n",
    "    def test_invalid_cased(self):\n",
    "          with pytest.raises(Exception):\n",
    "                actual_result = mut_dic_cased(my_dict,\"key1\",\"key2\")\n",
    "    \n",
    "    # exception2\n",
    "    def test_invalid_cased(self):\n",
    "          with pytest.raises(Exception):\n",
    "                  actual_result = mut_dic_cased()\n",
    "                    \n",
    "    # exception3\n",
    "    def test_invalid_cased(self):\n",
    "        with pytest.raises(Exception):\n",
    "            actual_result = mut_dic_cased(None)\n",
    "    \n",
    "    # exception4\n",
    "    def test_invalid_cased(self):\n",
    "          with pytest.raises(Exception):\n",
    "                  actual_result = mut_dic_cased(my_dict,\"key3\")"
   ]
  },
  {
   "cell_type": "code",
   "execution_count": null,
   "metadata": {},
   "outputs": [],
   "source": [
    "%%ipytest -qq\n",
    "\n",
    "class TestDic(unittest.TestCase):\n",
    "   \n",
    "    def test_dic_cased(self):\n",
    "        #assign\n",
    "        my_dict = {'a': 1, 'b': 2, 'c': 3}\n",
    "    \n",
    "        not_exist_key = \"d\"\n",
    "        \n",
    "        # act \n",
    "        actual_result = get_dic_cased(my_dict,not_exist_key)\n",
    "\n",
    "        # assert\n",
    "        assert actual_result == \"default value\"\n",
    "        \n",
    "    # exception1\n",
    "    def test_invalid_cased(self):\n",
    "          with pytest.raises(Exception):\n",
    "                actual_result = get_dic_cased(my_dict,\"key1\",\"key2\")\n",
    "    \n",
    "    # exception2\n",
    "    def test_invalid_cased(self):\n",
    "          with pytest.raises(Exception):\n",
    "                  actual_result = get_dic_cased()\n",
    "                    \n",
    "    # exception3\n",
    "    def test_invalid_cased(self):\n",
    "        with pytest.raises(Exception):\n",
    "            actual_result = get_dic_cased(None)"
   ]
  },
  {
   "cell_type": "markdown",
   "metadata": {},
   "source": [
    "### `dict.setdefault()`"
   ]
  },
  {
   "cell_type": "code",
   "execution_count": null,
   "metadata": {},
   "outputs": [],
   "source": [
    "my_dict = {'a': 1, 'b': 2, 'c': 3}"
   ]
  },
  {
   "cell_type": "code",
   "execution_count": null,
   "metadata": {},
   "outputs": [],
   "source": [
    "# Your solution here:\n",
    "def set_dic_cased(my_dict):\n",
    "    d = my_dict.get('d')\n",
    "    if d == None:\n",
    "        d=\"default value\"\n",
    "    my_dict['d']=d\n",
    "    return my_dict\n",
    "set_dic_cased(my_dict)"
   ]
  },
  {
   "cell_type": "code",
   "execution_count": null,
   "metadata": {},
   "outputs": [],
   "source": [
    "%%ipytest -qq\n",
    "\n",
    "class TestDic(unittest.TestCase):\n",
    "   \n",
    "    def test_dic_cased(self):\n",
    "        #assign\n",
    "        my_dict = {'a': 1, 'b': 2, 'c': 3}\n",
    "\n",
    "        # act \n",
    "        actual_result = set_dic_cased(my_dict)\n",
    "\n",
    "        # assert\n",
    "        assert actual_result[\"d\"] == 'default value'\n",
    "        \n",
    "    # exception1\n",
    "    def test_invalid_cased(self):\n",
    "          with pytest.raises(Exception):\n",
    "                actual_result[\"f\"] == 'default value'\n",
    "    \n",
    "    # exception2\n",
    "    def test_invalid_cased(self):\n",
    "          with pytest.raises(Exception):\n",
    "                  actual_result[1] == 'default value'\n",
    "                    \n",
    "    # exception3\n",
    "    def test_invalid_cased(self):\n",
    "        with pytest.raises(Exception):\n",
    "            actual_result[None] == 'default value'"
   ]
  },
  {
   "cell_type": "code",
   "execution_count": null,
   "metadata": {},
   "outputs": [],
   "source": [
    "\n",
    "%%ipytest -qq\n",
    "\n",
    "class TestDic(unittest.TestCase):\n",
    "   \n",
    "    def test_dic_cased(self):\n",
    "        #assign\n",
    "        my_dict = {'a': 1, 'b': 2, 'c': 3}\n",
    "\n",
    "        # act \n",
    "        actual_result = set_dic_cased(my_dict)\n",
    "\n",
    "        # assert\n",
    "        assert actual_result== {'a': 1, 'b': 2, 'c': 3, 'd': 'default value'}\n"
   ]
  },
  {
   "cell_type": "markdown",
   "metadata": {},
   "source": [
    "### Accessing and merging dictionaries\n",
    "\n",
    "Combine `dict1`, `dict2`, and `dict3` into `my_dict`. In addition, get the value of `special_key` from `my_dict` into a `special_value` variable. Note that original dictionaries should stay untouched and `special_key` should be removed from `my_dict`."
   ]
  },
  {
   "cell_type": "code",
   "execution_count": null,
   "metadata": {
    "editable": false
   },
   "outputs": [],
   "source": [
    "dict1 = dict(key1='This is not that hard', key2='Python is still cool')\n",
    "dict2 = {'key1': 123, 'special_key': 'secret'}\n",
    "# This is also a away to initialize a dict (list of tuples) \n",
    "dict3 = dict([('key2', 456), ('keyX', 'X')])"
   ]
  },
  {
   "cell_type": "code",
   "execution_count": null,
   "metadata": {},
   "outputs": [],
   "source": [
    "# Your impelementation\n",
    "def test_dict1_cased(dict1,dict2,dict3):\n",
    "    my_dict = {}\n",
    "    my_dict.update(dict1)\n",
    "    my_dict.update(dict2)\n",
    "    my_dict.update(dict3)\n",
    "    print(my_dict)\n",
    "    return my_dict\n",
    "\n",
    "def test_dict2_cased(my_dict):\n",
    "    my_dict[\"special_key\"] = \"public\"\n",
    "    special_value = my_dict.get(\"special_key\")\n",
    "    return my_dict,special_value\n",
    "    \n",
    "def test_dict3_cased(my_dict):\n",
    "    del my_dict[\"special_key\"]\n",
    "    print(my_dict)\n",
    "    return my_dict\n",
    "    \n",
    "\n",
    "my_dict = test_dict1_cased(dict1,dict2,dict3)\n",
    "\n",
    "\n",
    "my_dict,special_value = test_dict2_cased(my_dict)\n",
    "print(my_dict,special_value)\n",
    "\n",
    "my_dict = test_dict3_cased(my_dict)"
   ]
  },
  {
   "cell_type": "code",
   "execution_count": null,
   "metadata": {},
   "outputs": [],
   "source": [
    "def com_dic_cased(dict1,dict2,dict3):\n",
    "    my_dict = {}\n",
    "    my_dict.update(dict1)\n",
    "    my_dict.update(dict2)\n",
    "    my_dict.update(dict3)\n",
    "    print(my_dict)\n",
    "    return my_dict\n",
    "\n",
    "def modify_dic_cased(my_dict):\n",
    "    my_dict[\"special_key\"] = \"public\"\n",
    "    special_value = my_dict.get(\"special_key\")\n",
    "    return my_dict,special_value\n",
    "    \n",
    "def del_dic_cased(my_dict):\n",
    "    del my_dict[\"special_key\"]\n",
    "    print(my_dict)\n",
    "    return my_dict"
   ]
  },
  {
   "cell_type": "code",
   "execution_count": null,
   "metadata": {},
   "outputs": [],
   "source": [
    "\n",
    "%%ipytest -qq\n",
    "\n",
    "class TestDic(unittest.TestCase):\n",
    "   \n",
    "    def test_dic_cased(self):\n",
    "        #assign   \n",
    "        dict1 = dict(key1='This is not that hard', key2='Python is still cool')\n",
    "        dict2 = {'key1': 123, 'special_key': 'secret'}\n",
    "        dict3 = dict([('key2', 456), ('keyX', 'X')])\n",
    "        \n",
    "        # act \n",
    "        my_dict = com_dic_cased(dict1,dict2,dict3)\n",
    "        assert my_dict == {'key1': 123, 'key2': 456, 'special_key': 'secret', 'keyX': 'X'}\n",
    "        \n",
    "        my_dict,special_value = modify_dic_cased(my_dict)\n",
    "        assert special_value == 'public'\n",
    "        \n",
    "        my_dict = del_dic_cased(my_dict)\n",
    "        assert my_dict == {'key1': 123, 'key2': 456, 'keyX': 'X'}\n",
    "        \n",
    "    # exception1\n",
    "    def test_invalid_cased(self):\n",
    "          with pytest.raises(Exception):\n",
    "                actual_result = com_dic_cased(my_dict,\"key1\",\"key2\")\n",
    "    \n",
    "    # exception2\n",
    "    def test_invalid_cased(self):\n",
    "          with pytest.raises(Exception):\n",
    "                  actual_result = modify_dic_cased()\n",
    "                    \n",
    "    # exception3\n",
    "    def test_invalid_cased(self):\n",
    "        with pytest.raises(Exception):\n",
    "            actual_result = get_dic_cased(None)\n",
    "    \n",
    "    # exception4\n",
    "    def test_invalid_cased(self):\n",
    "          with pytest.raises(Exception):\n",
    "                  actual_result = del_dic_cased(my_dict,\"key3\")"
   ]
  },
  {
   "cell_type": "markdown",
   "metadata": {},
   "source": [
    "## Acknowledgments\n",
    "\n",
    "Thanks to below awesome open source projects for Python learning, which inspire this chapter.\n",
    "\n",
    "- [learn-python](https://github.com/trekhleb/learn-python) and [Oleksii Trekhleb](https://github.com/trekhleb)\n",
    "- [ultimate-python](https://github.com/huangsam/ultimate-python) and [Samuel Huang](https://github.com/huangsam)\n",
    "- [learn-python3](https://github.com/jerry-git/learn-python3) and [Jerry Pussine](https://github.com/jerry-gitq )"
   ]
  }
 ],
 "metadata": {
  "kernelspec": {
   "display_name": "myconda_1",
   "language": "python",
   "name": "myconda_1"
  },
  "language_info": {
   "codemirror_mode": {
    "name": "ipython",
    "version": 3
   },
   "file_extension": ".py",
   "mimetype": "text/x-python",
   "name": "python",
   "nbconvert_exporter": "python",
   "pygments_lexer": "ipython3",
   "version": "3.9.16"
  },
  "vscode": {
   "interpreter": {
    "hash": "aee8b7b246df8f9039afb4144a1f6fd8d2ca17a180786b69acc140d282b71a49"
   }
  }
 },
 "nbformat": 4,
 "nbformat_minor": 4
}
