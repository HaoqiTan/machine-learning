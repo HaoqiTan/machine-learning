{
 "cells": [
  {
   "cell_type": "code",
   "execution_count": 2,
   "metadata": {},
   "outputs": [],
   "source": [
    "# Python programming basics"
   ]
  },
  {
   "cell_type": "code",
   "execution_count": 3,
   "metadata": {},
   "outputs": [],
   "source": [
    "import pytest\n",
    "import ipytest\n",
    "import unittest\n",
    "\n",
    "ipytest.autoconfig()"
   ]
  },
  {
   "cell_type": "markdown",
   "metadata": {
    "tags": []
   },
   "source": [
    "## String"
   ]
  },
  {
   "cell_type": "markdown",
   "metadata": {},
   "source": [
    "### `str.upper()`, `str.lower()`, `str.title()`\n",
    "\n",
    "Fill `____` pieces below to have correct values for `lower_cased`, `upper_cased` and `title_cased` variables."
   ]
  },
  {
   "cell_type": "code",
   "execution_count": 3,
   "metadata": {},
   "outputs": [],
   "source": [
    "original = 'Python strings are COOL!'"
   ]
  },
  {
   "cell_type": "code",
   "execution_count": 4,
   "metadata": {},
   "outputs": [
    {
     "data": {
      "text/plain": [
       "'python strings are cool!'"
      ]
     },
     "execution_count": 4,
     "metadata": {},
     "output_type": "execute_result"
    }
   ],
   "source": [
    "# Your solution here:\n",
    "def string_lower_cased(string):\n",
    "    return string.lower()\n",
    "\n",
    "lower_cased = string_lower_cased(original)\n",
    "lower_cased"
   ]
  },
  {
   "cell_type": "code",
   "execution_count": 5,
   "metadata": {},
   "outputs": [
    {
     "data": {
      "text/plain": [
       "'PYTHON STRINGS ARE COOL!'"
      ]
     },
     "execution_count": 5,
     "metadata": {},
     "output_type": "execute_result"
    }
   ],
   "source": [
    "def string_upper_cased(string):\n",
    "    return string.upper()\n",
    "\n",
    "upper_cased = string_upper_cased(original)\n",
    "upper_cased"
   ]
  },
  {
   "cell_type": "code",
   "execution_count": 6,
   "metadata": {},
   "outputs": [
    {
     "data": {
      "text/plain": [
       "'Python Strings Are Cool!'"
      ]
     },
     "execution_count": 6,
     "metadata": {},
     "output_type": "execute_result"
    }
   ],
   "source": [
    "def string_title_cased(string):\n",
    "    return string.title()\n",
    "\n",
    "title_cased = string_title_cased(original)\n",
    "title_cased"
   ]
  },
  {
   "cell_type": "markdown",
   "metadata": {},
   "source": [
    "<h5><font color=blue>Check result by executing below... </font></h5>"
   ]
  },
  {
   "cell_type": "code",
   "execution_count": 7,
   "metadata": {},
   "outputs": [
    {
     "name": "stdout",
     "output_type": "stream",
     "text": [
      "\u001b[32m.\u001b[0m\u001b[32m.\u001b[0m\u001b[32m.\u001b[0m\u001b[32m                                                                                          [100%]\u001b[0m\n"
     ]
    }
   ],
   "source": [
    "%%ipytest -qq\n",
    "\n",
    "def create_test_string():\n",
    "    string='ABCDEFGhijklmn'\n",
    "    return string\n",
    "    \n",
    "\n",
    "class TestString_Lower_Cased(unittest.TestCase):\n",
    "\n",
    "    def test_string_lower_cased(self):\n",
    "        # assign\n",
    "        test_string = create_test_string()\n",
    "        \n",
    "        # act\n",
    "        actual_result = string_lower_cased(test_string)\n",
    "\n",
    "        # assert\n",
    "        assert actual_result == 'abcdefghijklmn'\n",
    "\n",
    "class TestString_Upper_Cased(unittest.TestCase):\n",
    "\n",
    "    def test_string_upper_cased(self):\n",
    "        # assign\n",
    "        test_string = create_test_string()\n",
    "        \n",
    "        # act\n",
    "        actual_result = string_upper_cased(test_string)\n",
    "\n",
    "        # assert\n",
    "        assert actual_result == 'ABCDEFGHIJKLMN'        \n",
    "\n",
    "class TestString_Title_Cased(unittest.TestCase):\n",
    "\n",
    "    def test_string_title_cased(self):\n",
    "        # assign\n",
    "        test_string = create_test_string()\n",
    "        \n",
    "        # act\n",
    "        actual_result = string_title_cased(test_string)\n",
    "\n",
    "        # assert\n",
    "        assert actual_result == 'Abcdefghijklmn' "
   ]
  },
  {
   "cell_type": "markdown",
   "metadata": {},
   "source": [
    "### `str.replace()`"
   ]
  },
  {
   "cell_type": "code",
   "execution_count": 8,
   "metadata": {},
   "outputs": [],
   "source": [
    "my_string = 'Python is my favorite programming language!'"
   ]
  },
  {
   "cell_type": "code",
   "execution_count": 9,
   "metadata": {},
   "outputs": [
    {
     "name": "stdout",
     "output_type": "stream",
     "text": [
      "Python will be my favorite programming language!\n"
     ]
    }
   ],
   "source": [
    "# Your solution here\n",
    "def original_string_replaced(string,strpiece1,strpiece2):\n",
    "    return string.replace(strpiece1,strpiece2)\n",
    "\n",
    "my_modified_string = original_string_replaced(my_string,' is ',' will be ')\n",
    "\n",
    "# my_string = 'Python is my favorite programming language!'\n",
    "# my_modified_string=my_string.replace(' is ',' will be ')\n",
    "\n",
    "print(my_modified_string)"
   ]
  },
  {
   "cell_type": "markdown",
   "metadata": {
    "tags": []
   },
   "source": [
    "<h5><font color=blue>Check result by executing below... </font></h5>"
   ]
  },
  {
   "cell_type": "code",
   "execution_count": 10,
   "metadata": {},
   "outputs": [
    {
     "name": "stdout",
     "output_type": "stream",
     "text": [
      "\u001b[32m.\u001b[0m\u001b[32m                                                                                            [100%]\u001b[0m\n"
     ]
    }
   ],
   "source": [
    "%%ipytest -qq\n",
    "\n",
    "def create_test_string():\n",
    "    string='I am 22'\n",
    "    return string\n",
    "    \n",
    "class TestString_Replaced(unittest.TestCase):\n",
    "\n",
    "    def test_string_replaced(self):\n",
    "        # assign\n",
    "        test_string = create_test_string()\n",
    "        \n",
    "        # act\n",
    "        actual_result = original_string_replaced(test_string,' am ',' will be ')\n",
    "\n",
    "        # assert\n",
    "        assert actual_result == 'I will be 22'"
   ]
  },
  {
   "cell_type": "markdown",
   "metadata": {},
   "source": [
    "### `str.format()`"
   ]
  },
  {
   "cell_type": "markdown",
   "metadata": {},
   "source": [
    "exemple = '{} is cool.'.format('Python')"
   ]
  },
  {
   "cell_type": "markdown",
   "metadata": {},
   "source": [
    "print(exemple)"
   ]
  },
  {
   "cell_type": "markdown",
   "metadata": {},
   "source": [
    "The result will be :Python is cool."
   ]
  },
  {
   "cell_type": "code",
   "execution_count": 11,
   "metadata": {},
   "outputs": [],
   "source": [
    "secret= ' {} is my favourite programming language. '"
   ]
  },
  {
   "cell_type": "code",
   "execution_count": 12,
   "metadata": {},
   "outputs": [
    {
     "name": "stdout",
     "output_type": "stream",
     "text": [
      " Python is my favourite programming language. \n"
     ]
    }
   ],
   "source": [
    "# Your solution here\n",
    "def original_string_format(string,strpiece1):\n",
    "    return string.format(strpiece1)\n",
    "\n",
    "my_format_string = original_string_format(secret,'Python')\n",
    "\n",
    "print(my_format_string)"
   ]
  },
  {
   "cell_type": "markdown",
   "metadata": {
    "tags": []
   },
   "source": [
    "<h5><font color=blue>Check result by executing below... </font></h5>"
   ]
  },
  {
   "cell_type": "code",
   "execution_count": 13,
   "metadata": {},
   "outputs": [
    {
     "name": "stdout",
     "output_type": "stream",
     "text": [
      "\u001b[32m.\u001b[0m\u001b[32m                                                                                            [100%]\u001b[0m\n"
     ]
    }
   ],
   "source": [
    "%%ipytest -qq\n",
    "\n",
    "def create_test_string():\n",
    "    string='I {} 22'\n",
    "    return string\n",
    "    \n",
    "class TestString_Format(unittest.TestCase):\n",
    "\n",
    "    def test_string_format(self):\n",
    "        # assign\n",
    "        test_string = create_test_string()\n",
    "        \n",
    "        # act\n",
    "        actual_result = original_string_format(test_string,'am')\n",
    "\n",
    "        # assert\n",
    "        assert actual_result == 'I am 22'"
   ]
  },
  {
   "cell_type": "markdown",
   "metadata": {},
   "source": [
    "### `str.join()`"
   ]
  },
  {
   "cell_type": "code",
   "execution_count": 14,
   "metadata": {},
   "outputs": [],
   "source": [
    "pandas = 'pandas'\n",
    "numpy = 'numpy'\n",
    "requests = 'requests'"
   ]
  },
  {
   "cell_type": "code",
   "execution_count": 15,
   "metadata": {},
   "outputs": [
    {
     "name": "stdout",
     "output_type": "stream",
     "text": [
      "pandas numpy requests\n"
     ]
    }
   ],
   "source": [
    "# Your solution here:\n",
    "def original_string_join(string):\n",
    "    return ' '.join(string)\n",
    "\n",
    "my_format_string = original_string_join(['pandas','numpy','requests'])\n",
    "\n",
    "print(my_format_string)\n",
    "\n",
    "#cool_python_libs =', '.join(['pandas','numpy','requests'])"
   ]
  },
  {
   "cell_type": "markdown",
   "metadata": {},
   "source": [
    "<h5><font color=blue>Check result by executing below... </font></h5>"
   ]
  },
  {
   "cell_type": "code",
   "execution_count": 16,
   "metadata": {},
   "outputs": [
    {
     "name": "stdout",
     "output_type": "stream",
     "text": [
      "\u001b[32m.\u001b[0m\u001b[32m                                                                                            [100%]\u001b[0m\n"
     ]
    }
   ],
   "source": [
    "%%ipytest -qq\n",
    "\n",
    "def create_test_string():\n",
    "    string1='I'\n",
    "    string2='am'\n",
    "    string3='22'\n",
    "    return string1,string2,string3\n",
    "    \n",
    "class TestString_Join(unittest.TestCase):\n",
    "\n",
    "    def test_string_join(self):\n",
    "        # assign\n",
    "        test_string = create_test_string()\n",
    "        \n",
    "        # act\n",
    "        actual_result = original_string_join(['I','am','22'])\n",
    "\n",
    "        # assert\n",
    "        assert actual_result == 'I am 22'"
   ]
  },
  {
   "cell_type": "markdown",
   "metadata": {},
   "source": [
    "### `str.strip()`"
   ]
  },
  {
   "cell_type": "code",
   "execution_count": 17,
   "metadata": {},
   "outputs": [],
   "source": [
    "ugly_formatted = ' \\n \\t Some story to tell '"
   ]
  },
  {
   "cell_type": "code",
   "execution_count": 18,
   "metadata": {},
   "outputs": [
    {
     "name": "stdout",
     "output_type": "stream",
     "text": [
      "Some story to tell\n"
     ]
    }
   ],
   "source": [
    "# Your solution here\n",
    "def original_string_ugly_formatted(string):\n",
    "    return string.strip()\n",
    "\n",
    "my_modified_string = original_string_ugly_formatted(ugly_formatted)\n",
    "\n",
    "print(my_modified_string)"
   ]
  },
  {
   "cell_type": "code",
   "execution_count": 19,
   "metadata": {},
   "outputs": [],
   "source": [
    "# Your solution:\n",
    "#stripped =ugly_formatted.strip()"
   ]
  },
  {
   "cell_type": "markdown",
   "metadata": {},
   "source": [
    "<h5><font color=blue>Check result by executing below... </font></h5>"
   ]
  },
  {
   "cell_type": "code",
   "execution_count": 20,
   "metadata": {},
   "outputs": [
    {
     "name": "stdout",
     "output_type": "stream",
     "text": [
      "\u001b[32m.\u001b[0m\u001b[32m                                                                                            [100%]\u001b[0m\n"
     ]
    }
   ],
   "source": [
    "%%ipytest -qq\n",
    "\n",
    "def create_test_string():\n",
    "    string='\\n \\t I am 22'\n",
    "    return string\n",
    "    \n",
    "class TestString_Strip(unittest.TestCase):\n",
    "\n",
    "    def test_string_strip(self):\n",
    "        # assign\n",
    "        test_string = create_test_string()\n",
    "        \n",
    "        # act\n",
    "        actual_result = original_string_ugly_formatted(test_string)\n",
    "\n",
    "        # assert\n",
    "        assert actual_result == 'I am 22'"
   ]
  },
  {
   "cell_type": "markdown",
   "metadata": {},
   "source": [
    "### `str.split()`"
   ]
  },
  {
   "cell_type": "code",
   "execution_count": 21,
   "metadata": {},
   "outputs": [],
   "source": [
    "sentence = 'three different words'"
   ]
  },
  {
   "cell_type": "code",
   "execution_count": 22,
   "metadata": {},
   "outputs": [
    {
     "name": "stdout",
     "output_type": "stream",
     "text": [
      "['three', 'different', 'words']\n"
     ]
    }
   ],
   "source": [
    "# Your solution here\n",
    "def original_string_split(string):\n",
    "    return string.split()\n",
    "\n",
    "my_modified_string = original_string_split(sentence)\n",
    "\n",
    "print(my_modified_string)"
   ]
  },
  {
   "cell_type": "markdown",
   "metadata": {},
   "source": [
    "<h5><font color=blue>Check result by executing below... </font></h5>"
   ]
  },
  {
   "cell_type": "code",
   "execution_count": 23,
   "metadata": {},
   "outputs": [
    {
     "name": "stdout",
     "output_type": "stream",
     "text": [
      "\u001b[32m.\u001b[0m\u001b[32m                                                                                            [100%]\u001b[0m\n"
     ]
    }
   ],
   "source": [
    "%%ipytest -qq\n",
    "\n",
    "def create_test_string():\n",
    "    string='I am 22'\n",
    "    return string\n",
    "    \n",
    "class TestString_Split(unittest.TestCase):\n",
    "\n",
    "    def test_string_split(self):\n",
    "        # assign\n",
    "        test_string = create_test_string()\n",
    "        \n",
    "        # act\n",
    "        actual_result = original_string_split(test_string)\n",
    "\n",
    "        # assert\n",
    "        assert actual_result == ['I', 'am', '22'] "
   ]
  },
  {
   "cell_type": "markdown",
   "metadata": {},
   "source": [
    "### `\\n`, `\\t`"
   ]
  },
  {
   "cell_type": "code",
   "execution_count": 24,
   "metadata": {},
   "outputs": [
    {
     "name": "stdout",
     "output_type": "stream",
     "text": [
      "First line\n",
      "Second line\n",
      "\tThis will be indented\n"
     ]
    }
   ],
   "source": [
    "two_lines = 'First line\\nSecond line'\n",
    "indented = '\\tThis will be indented'\n",
    "print(two_lines)\n",
    "print(indented)"
   ]
  },
  {
   "cell_type": "code",
   "execution_count": 25,
   "metadata": {},
   "outputs": [],
   "source": [
    "assert two_lines == '''First line\n",
    "Second line'''\n",
    "assert indented == '\tThis will be indented'"
   ]
  },
  {
   "cell_type": "markdown",
   "metadata": {
    "tags": []
   },
   "source": [
    "## Numbers"
   ]
  },
  {
   "cell_type": "markdown",
   "metadata": {},
   "source": [
    "### Creating formulas\n",
    "\n",
    "Write the following mathematical formula in Python:\n",
    "\n",
    "$result = 6a^3 - \\frac{8b^2 }{4c} + 11$\n"
   ]
  },
  {
   "cell_type": "code",
   "execution_count": 85,
   "metadata": {},
   "outputs": [],
   "source": [
    "a = 2\n",
    "b = 3\n",
    "c = 2"
   ]
  },
  {
   "cell_type": "code",
   "execution_count": 86,
   "metadata": {},
   "outputs": [
    {
     "name": "stdout",
     "output_type": "stream",
     "text": [
      "50.0\n"
     ]
    }
   ],
   "source": [
    "# Your formula here:\n",
    "def numbers_formula(a,b,c):\n",
    "    return 6*a**3-(8*b**2)/(4*c)+11\n",
    "result = numbers_formula(a,b,c)\n",
    "print(result)"
   ]
  },
  {
   "cell_type": "markdown",
   "metadata": {},
   "source": [
    "<h5><font color=blue>Check result by executing below... </font></h5>"
   ]
  },
  {
   "cell_type": "code",
   "execution_count": 87,
   "metadata": {},
   "outputs": [
    {
     "name": "stdout",
     "output_type": "stream",
     "text": [
      "\u001b[32m.\u001b[0m\u001b[32m                                                                                            [100%]\u001b[0m\n"
     ]
    }
   ],
   "source": [
    "%%ipytest -qq\n",
    "\n",
    "class TestNumbersFormula(unittest.TestCase):\n",
    "    def test_numbers_formula(self):\n",
    "        #assign\n",
    "        a = 2\n",
    "        b = 3\n",
    "        c = 2\n",
    "        \n",
    "        # act \n",
    "        actual_result = numbers_formula(a,b,c)\n",
    "\n",
    "        # assert\n",
    "        assert actual_result == 50"
   ]
  },
  {
   "cell_type": "markdown",
   "metadata": {
    "tags": []
   },
   "source": [
    "### Floating point pitfalls\n",
    "\n",
    "Make assertion for `0.1 + 0.2 == 0.3`"
   ]
  },
  {
   "cell_type": "code",
   "execution_count": 95,
   "metadata": {},
   "outputs": [],
   "source": [
    "# This won't work:\n",
    "#assert 0.1 + 0.2 == 0.3\n",
    "\n",
    "# Your solution here:\n",
    "assert int(0.1)+int(0.2)==int(0.3)"
   ]
  },
  {
   "cell_type": "markdown",
   "metadata": {
    "tags": []
   },
   "source": [
    "### Floor division `//`, modulus `%`, power `**`"
   ]
  },
  {
   "cell_type": "code",
   "execution_count": 97,
   "metadata": {},
   "outputs": [],
   "source": [
    "assert 7 // 5 == 1\n",
    "assert 7 % 5 == 2\n",
    "assert 2 ** 3 == 8 "
   ]
  },
  {
   "cell_type": "markdown",
   "metadata": {},
   "source": [
    "## Lists"
   ]
  },
  {
   "cell_type": "markdown",
   "metadata": {},
   "source": [
    "### `list.append()`, `list.remove()`, mutable"
   ]
  },
  {
   "cell_type": "code",
   "execution_count": 6,
   "metadata": {},
   "outputs": [],
   "source": [
    "# Let's create an empty list.\n",
    "my_list = []"
   ]
  },
  {
   "cell_type": "code",
   "execution_count": 7,
   "metadata": {},
   "outputs": [
    {
     "data": {
      "text/plain": [
       "['Python', 'is neat']"
      ]
     },
     "execution_count": 7,
     "metadata": {},
     "output_type": "execute_result"
    }
   ],
   "source": [
    "def original_list(my_list):\n",
    "        # Let's add some values\n",
    "        my_list.append('Python')\n",
    "        my_list.append('is ok')\n",
    "        my_list.append('sometimes')\n",
    "\n",
    "        # Let's remove 'sometimes'\n",
    "        my_list.remove('sometimes')\n",
    "\n",
    "        # Let's change the second item\n",
    "        my_list[1] = 'is neat'\n",
    "        \n",
    "        return my_list\n",
    "    \n",
    "\n",
    "original_list([])   "
   ]
  },
  {
   "cell_type": "code",
   "execution_count": 8,
   "metadata": {},
   "outputs": [
    {
     "name": "stdout",
     "output_type": "stream",
     "text": [
      "\u001b[32m.\u001b[0m\u001b[32m                                                                                            [100%]\u001b[0m\n"
     ]
    }
   ],
   "source": [
    "%%ipytest -qq\n",
    "\n",
    "class TestLists(unittest.TestCase):\n",
    "   \n",
    "    \n",
    "    def test_lists(self):\n",
    "        #assign\n",
    "        my_list = []\n",
    "        \n",
    "        # act \n",
    "        actual_result = original_list(my_list)\n",
    "\n",
    "        # assert\n",
    "        assert my_list == ['Python', 'is neat']"
   ]
  },
  {
   "cell_type": "markdown",
   "metadata": {},
   "source": [
    "### Slice\n",
    "\n",
    "Create a new list without modifiying the original one."
   ]
  },
  {
   "cell_type": "code",
   "execution_count": 31,
   "metadata": {
    "editable": false
   },
   "outputs": [],
   "source": [
    "original = ['I', 'am', 'learning', 'hacking', 'in']"
   ]
  },
  {
   "cell_type": "code",
   "execution_count": 10,
   "metadata": {},
   "outputs": [
    {
     "data": {
      "text/plain": [
       "['I', 'am', 'learning', 'lists', 'in', 'Python']"
      ]
     },
     "execution_count": 10,
     "metadata": {},
     "output_type": "execute_result"
    }
   ],
   "source": [
    "# Your implementation here\n",
    "# modefied=[]\n",
    "# modefied.extend(original[slice(3)])\n",
    "# modefied.extend(['lists','in','Python'])\n",
    "# print(modefied)\n",
    "def modify(li):\n",
    "    li[3:] = ['lists', 'in', 'Python']\n",
    "    return li\n",
    "\n",
    "modify(['I', 'am', 'learning', 'hacking', 'in'])"
   ]
  },
  {
   "cell_type": "code",
   "execution_count": 11,
   "metadata": {},
   "outputs": [
    {
     "name": "stdout",
     "output_type": "stream",
     "text": [
      "\u001b[32m.\u001b[0m\u001b[32m                                                                                            [100%]\u001b[0m\n"
     ]
    }
   ],
   "source": [
    "%%ipytest -qq\n",
    "\n",
    "class TestLists(unittest.TestCase):\n",
    "   \n",
    "    \n",
    "    def test_slice(self):\n",
    "        #assign\n",
    "        my_list = ['I', 'am', 'learning', 'lists', 'in', 'Python']\n",
    "        \n",
    "        # act \n",
    "        actual_result = modify(my_list)\n",
    "\n",
    "        # assert\n",
    "        assert my_list == ['I', 'am', 'learning', 'lists', 'in', 'Python']"
   ]
  },
  {
   "cell_type": "markdown",
   "metadata": {},
   "source": [
    "### `list.extend()`"
   ]
  },
  {
   "cell_type": "code",
   "execution_count": 13,
   "metadata": {},
   "outputs": [],
   "source": [
    "first_list = ['beef', 'ham']\n",
    "second_list = ['potatoes', 1, 3]"
   ]
  },
  {
   "cell_type": "code",
   "execution_count": 14,
   "metadata": {},
   "outputs": [
    {
     "data": {
      "text/plain": [
       "['beef', 'ham', 'potatoes', 1]"
      ]
     },
     "execution_count": 14,
     "metadata": {},
     "output_type": "execute_result"
    }
   ],
   "source": [
    "# Your solution:\n",
    "# use `extend()\n",
    "def extend_test(li1,li2):\n",
    "    li1.extend(li2)\n",
    "    return li1[slice(4)]\n",
    "\n",
    "extend_test([\"beef\",\"ham\"],[\"potatoes\",1,2])"
   ]
  },
  {
   "cell_type": "code",
   "execution_count": 15,
   "metadata": {},
   "outputs": [
    {
     "name": "stdout",
     "output_type": "stream",
     "text": [
      "\u001b[32m.\u001b[0m\u001b[32m                                                                                            [100%]\u001b[0m\n"
     ]
    }
   ],
   "source": [
    "%%ipytest -qq\n",
    "\n",
    "class TestLists(unittest.TestCase):\n",
    "   \n",
    "    \n",
    "    def test_extend(self):\n",
    "        #assign\n",
    "        first_list = ['beef', 'ham']\n",
    "        second_list = ['potatoes', 1, 3]\n",
    "        \n",
    "        # act \n",
    "        actual_result = extend_test(first_list,second_list)\n",
    "\n",
    "        # assert\n",
    "        assert actual_result == ['beef', 'ham', 'potatoes', 1]"
   ]
  },
  {
   "cell_type": "code",
   "execution_count": 18,
   "metadata": {},
   "outputs": [],
   "source": [
    "third_list = ['beef', 'ham']\n",
    "forth_list = ['potatoes', 1, 3]"
   ]
  },
  {
   "cell_type": "code",
   "execution_count": 19,
   "metadata": {},
   "outputs": [
    {
     "data": {
      "text/plain": [
       "['beef', 'ham', 'potatoes', 1]"
      ]
     },
     "execution_count": 19,
     "metadata": {},
     "output_type": "execute_result"
    }
   ],
   "source": [
    "# Your soultion:\n",
    "# use `+` operator\n",
    "def merge_list(li1,li2):\n",
    "    merged_list = li1 + li2\n",
    "    return merged_list[slice(4)]\n",
    "\n",
    "extend_test([\"beef\",\"ham\"],[\"potatoes\",1,2])"
   ]
  },
  {
   "cell_type": "code",
   "execution_count": 20,
   "metadata": {},
   "outputs": [
    {
     "name": "stdout",
     "output_type": "stream",
     "text": [
      "\u001b[32m.\u001b[0m\u001b[32m                                                                                            [100%]\u001b[0m\n"
     ]
    }
   ],
   "source": [
    "\n",
    "%%ipytest -qq\n",
    "\n",
    "class TestLists(unittest.TestCase):\n",
    "   \n",
    "    \n",
    "    def test_extend(self):\n",
    "        #assign\n",
    "        third_list = ['beef', 'ham']\n",
    "        forth_list = ['potatoes', 1, 3]\n",
    "        \n",
    "        # act \n",
    "        actual_result = merge_list(third_list,forth_list)\n",
    "\n",
    "        # assert\n",
    "        assert actual_result == ['beef', 'ham', 'potatoes', 1]"
   ]
  },
  {
   "cell_type": "markdown",
   "metadata": {},
   "source": [
    "### `list.sort()`\n",
    "\n",
    "Create a merged sorted list."
   ]
  },
  {
   "cell_type": "code",
   "execution_count": 29,
   "metadata": {
    "editable": false
   },
   "outputs": [],
   "source": [
    "my_list = [6, 12, 5]"
   ]
  },
  {
   "cell_type": "code",
   "execution_count": 30,
   "metadata": {},
   "outputs": [
    {
     "data": {
      "text/plain": [
       "[12, 6, 5]"
      ]
     },
     "execution_count": 30,
     "metadata": {},
     "output_type": "execute_result"
    }
   ],
   "source": [
    "# Your implementation here\n",
    "def sort_list(li):\n",
    "    li.sort(reverse=True)\n",
    "    return li\n",
    "\n",
    "sort_list(my_list)"
   ]
  },
  {
   "cell_type": "code",
   "execution_count": 31,
   "metadata": {},
   "outputs": [
    {
     "name": "stdout",
     "output_type": "stream",
     "text": [
      "\u001b[32m.\u001b[0m\u001b[32m                                                                                            [100%]\u001b[0m\n"
     ]
    }
   ],
   "source": [
    "%%ipytest -qq\n",
    "\n",
    "class TestLists(unittest.TestCase):\n",
    "   \n",
    "    \n",
    "    def test_sort(self):\n",
    "        #assign\n",
    "        my_list = [12,6,5]\n",
    "        \n",
    "        # act \n",
    "        actual_result = sort_list(my_list)\n",
    "\n",
    "        # assert\n",
    "        assert actual_result == [12, 6, 5]"
   ]
  },
  {
   "cell_type": "markdown",
   "metadata": {},
   "source": [
    "### `sorted(list)`"
   ]
  },
  {
   "cell_type": "code",
   "execution_count": 32,
   "metadata": {},
   "outputs": [],
   "source": [
    "numbers = [8, 1, 6, 5, 10]"
   ]
  },
  {
   "cell_type": "code",
   "execution_count": 33,
   "metadata": {},
   "outputs": [
    {
     "data": {
      "text/plain": [
       "[1, 5, 6, 8, 10]"
      ]
     },
     "execution_count": 33,
     "metadata": {},
     "output_type": "execute_result"
    }
   ],
   "source": [
    "def list_sorted(li):\n",
    "    sorted_numbers =sorted(li)\n",
    "    return sorted_numbers\n",
    "\n",
    "list_sorted(numbers)"
   ]
  },
  {
   "cell_type": "code",
   "execution_count": 34,
   "metadata": {},
   "outputs": [
    {
     "name": "stdout",
     "output_type": "stream",
     "text": [
      "\u001b[32m.\u001b[0m\u001b[32m                                                                                            [100%]\u001b[0m\n"
     ]
    }
   ],
   "source": [
    "%%ipytest -qq\n",
    "\n",
    "class TestLists(unittest.TestCase):\n",
    "   \n",
    "    \n",
    "    def test_sort(self):\n",
    "        #assign\n",
    "        mylist = [8, 1, 6, 5, 10]\n",
    "        \n",
    "        # act \n",
    "        actual_result = list_sorted(mylist)\n",
    "\n",
    "        # assert\n",
    "        assert actual_result == [1, 5, 6, 8, 10]"
   ]
  },
  {
   "cell_type": "markdown",
   "metadata": {},
   "source": [
    "### `list.reverse()`"
   ]
  },
  {
   "cell_type": "code",
   "execution_count": 46,
   "metadata": {},
   "outputs": [],
   "source": [
    "my_list = ['c', 'b', 'ham']"
   ]
  },
  {
   "cell_type": "code",
   "execution_count": 47,
   "metadata": {},
   "outputs": [],
   "source": [
    "# Your solution:\n",
    "my_list.reverse()"
   ]
  },
  {
   "cell_type": "code",
   "execution_count": 48,
   "metadata": {},
   "outputs": [],
   "source": [
    "assert my_list == ['ham', 'b', 'c']"
   ]
  },
  {
   "cell_type": "markdown",
   "metadata": {},
   "source": [
    "## Dictionaries"
   ]
  },
  {
   "cell_type": "markdown",
   "metadata": {},
   "source": [
    "### Populating a dictionary\n",
    "\n",
    "Create a dictionary by using all the given variables."
   ]
  },
  {
   "cell_type": "code",
   "execution_count": 49,
   "metadata": {
    "editable": false
   },
   "outputs": [],
   "source": [
    "first_name = 'John'\n",
    "last_name = 'Doe'\n",
    "favorite_hobby = 'Python'\n",
    "sports_hobby = 'gym'\n",
    "age = 82"
   ]
  },
  {
   "cell_type": "code",
   "execution_count": 50,
   "metadata": {},
   "outputs": [],
   "source": [
    "# Your implementation\n",
    "my_dict = {'name':first_name+' '+last_name,'age':age,'hobbies':[favorite_hobby,sports_hobby]}"
   ]
  },
  {
   "cell_type": "code",
   "execution_count": 51,
   "metadata": {
    "editable": false
   },
   "outputs": [],
   "source": [
    "assert my_dict == {\n",
    "        'name': 'John Doe',\n",
    "        'age': 82,\n",
    "        'hobbies': ['Python', 'gym']\n",
    "    }"
   ]
  },
  {
   "cell_type": "markdown",
   "metadata": {},
   "source": [
    "### `del`"
   ]
  },
  {
   "cell_type": "code",
   "execution_count": 52,
   "metadata": {},
   "outputs": [],
   "source": [
    "my_dict = {'key1': 'value1', 'key2': 99, 'keyX': 'valueX'}\n",
    "key_to_delete = 'keyX'"
   ]
  },
  {
   "cell_type": "code",
   "execution_count": 53,
   "metadata": {},
   "outputs": [
    {
     "name": "stdout",
     "output_type": "stream",
     "text": [
      "{'key1': 'value1', 'key2': 99}\n"
     ]
    }
   ],
   "source": [
    "# Your solution here:\n",
    "# my_dict = {'key1': 'value1', 'key2': 99, 'keyX': 'valueX'}\n",
    "# key_to_delete = 'keyX'\n",
    "if key_to_delete in my_dict:\n",
    "    del my_dict[\"keyX\"]\n",
    "print(my_dict)"
   ]
  },
  {
   "cell_type": "code",
   "execution_count": 54,
   "metadata": {},
   "outputs": [],
   "source": [
    "assert my_dict == {'key1': 'value1', 'key2': 99}"
   ]
  },
  {
   "cell_type": "markdown",
   "metadata": {},
   "source": [
    "### Mutable"
   ]
  },
  {
   "cell_type": "code",
   "execution_count": 55,
   "metadata": {},
   "outputs": [],
   "source": [
    "my_dict = {'ham': 'good', 'carrot': 'semi good'}"
   ]
  },
  {
   "cell_type": "code",
   "execution_count": 56,
   "metadata": {},
   "outputs": [
    {
     "name": "stdout",
     "output_type": "stream",
     "text": [
      "{'carrot': 'super tasty'}\n"
     ]
    }
   ],
   "source": [
    "# Your solution here:\n",
    "del my_dict[\"ham\"]\n",
    "my_dict[\"carrot\"]=\"super tasty\"\n",
    "print(my_dict)"
   ]
  },
  {
   "cell_type": "code",
   "execution_count": 57,
   "metadata": {},
   "outputs": [],
   "source": [
    "assert my_dict['carrot'] == 'super tasty'"
   ]
  },
  {
   "cell_type": "markdown",
   "metadata": {},
   "source": [
    "### `dict.get()`"
   ]
  },
  {
   "cell_type": "code",
   "execution_count": 58,
   "metadata": {},
   "outputs": [],
   "source": [
    "my_dict = {'a': 1, 'b': 2, 'c': 3}"
   ]
  },
  {
   "cell_type": "code",
   "execution_count": 59,
   "metadata": {},
   "outputs": [
    {
     "name": "stdout",
     "output_type": "stream",
     "text": [
      "default value\n"
     ]
    }
   ],
   "source": [
    "# Your solution here:\n",
    "d = my_dict.get('d')\n",
    "if d == None:\n",
    "    d=\"default value\"\n",
    "print(d)"
   ]
  },
  {
   "cell_type": "code",
   "execution_count": 60,
   "metadata": {},
   "outputs": [],
   "source": [
    "assert d == 'default value'"
   ]
  },
  {
   "cell_type": "code",
   "execution_count": 61,
   "metadata": {},
   "outputs": [],
   "source": [
    "assert my_dict == {'a': 1, 'b': 2, 'c': 3}"
   ]
  },
  {
   "cell_type": "markdown",
   "metadata": {},
   "source": [
    "### `dict.setdefault()`"
   ]
  },
  {
   "cell_type": "code",
   "execution_count": 62,
   "metadata": {},
   "outputs": [],
   "source": [
    "my_dict = {'a': 1, 'b': 2, 'c': 3}"
   ]
  },
  {
   "cell_type": "code",
   "execution_count": 63,
   "metadata": {},
   "outputs": [
    {
     "name": "stdout",
     "output_type": "stream",
     "text": [
      "default value\n"
     ]
    }
   ],
   "source": [
    "# Your solution here:\n",
    "d = my_dict.get('d')\n",
    "if d == None:\n",
    "    d=\"default value\"\n",
    "print(d)\n",
    "my_dict['d']=d"
   ]
  },
  {
   "cell_type": "code",
   "execution_count": 64,
   "metadata": {},
   "outputs": [],
   "source": [
    "assert d == 'default value'"
   ]
  },
  {
   "cell_type": "code",
   "execution_count": 65,
   "metadata": {},
   "outputs": [],
   "source": [
    "assert my_dict == {'a': 1, 'b': 2, 'c': 3, 'd': 'default value'}"
   ]
  },
  {
   "cell_type": "markdown",
   "metadata": {},
   "source": [
    "### Accessing and merging dictionaries\n",
    "\n",
    "Combine `dict1`, `dict2`, and `dict3` into `my_dict`. In addition, get the value of `special_key` from `my_dict` into a `special_value` variable. Note that original dictionaries should stay untouched and `special_key` should be removed from `my_dict`."
   ]
  },
  {
   "cell_type": "code",
   "execution_count": 66,
   "metadata": {
    "editable": false
   },
   "outputs": [],
   "source": [
    "dict1 = dict(key1='This is not that hard', key2='Python is still cool')\n",
    "dict2 = {'key1': 123, 'special_key': 'secret'}\n",
    "# This is also a away to initialize a dict (list of tuples) \n",
    "dict3 = dict([('key2', 456), ('keyX', 'X')])"
   ]
  },
  {
   "cell_type": "code",
   "execution_count": 67,
   "metadata": {},
   "outputs": [
    {
     "name": "stdout",
     "output_type": "stream",
     "text": [
      "{'key1': 123, 'key2': 'Python is still cool', 'special_key': 'secret'}\n",
      "{'key1': 123, 'key2': 456, 'special_key': 'secret'}\n",
      "{'key1': 123, 'key2': 456}\n",
      "{'key1': 123, 'key2': 456, 'keyX': 'X'}\n"
     ]
    }
   ],
   "source": [
    "# Your impelementation\n",
    "my_dict ={}\n",
    "my_dict.update(dict1)\n",
    "my_dict.update(dict2)\n",
    "print(my_dict)\n",
    "my_dict[\"key2\"]=456\n",
    "print(my_dict)\n",
    "del my_dict[\"special_key\"]\n",
    "print(my_dict)\n",
    "my_dict[\"keyX\"]=\"X\"\n",
    "print(my_dict)\n",
    "special_value = dict2.get(\"special_key\")"
   ]
  },
  {
   "cell_type": "code",
   "execution_count": 68,
   "metadata": {
    "editable": false
   },
   "outputs": [],
   "source": [
    "assert my_dict == {'key1': 123, 'key2': 456, 'keyX': 'X'}\n",
    "assert special_value == 'secret'\n",
    "\n",
    "# Let's check that the originals are untouched\n",
    "assert dict1 == {\n",
    "        'key1': 'This is not that hard',\n",
    "        'key2': 'Python is still cool'\n",
    "    }\n",
    "assert dict2 == {'key1': 123, 'special_key': 'secret'}\n",
    "assert dict3 == {'key2': 456, 'keyX': 'X'}"
   ]
  },
  {
   "cell_type": "markdown",
   "metadata": {},
   "source": [
    "## Acknowledgments\n",
    "\n",
    "Thanks to below awesome open source projects for Python learning, which inspire this chapter.\n",
    "\n",
    "- [learn-python](https://github.com/trekhleb/learn-python) and [Oleksii Trekhleb](https://github.com/trekhleb)\n",
    "- [ultimate-python](https://github.com/huangsam/ultimate-python) and [Samuel Huang](https://github.com/huangsam)\n",
    "- [learn-python3](https://github.com/jerry-git/learn-python3) and [Jerry Pussine](https://github.com/jerry-gitq )"
   ]
  }
 ],
 "metadata": {
  "kernelspec": {
   "display_name": "myconda_1",
   "language": "python",
   "name": "myconda_1"
  },
  "language_info": {
   "codemirror_mode": {
    "name": "ipython",
    "version": 3
   },
   "file_extension": ".py",
   "mimetype": "text/x-python",
   "name": "python",
   "nbconvert_exporter": "python",
   "pygments_lexer": "ipython3",
   "version": "3.9.16"
  },
  "vscode": {
   "interpreter": {
    "hash": "aee8b7b246df8f9039afb4144a1f6fd8d2ca17a180786b69acc140d282b71a49"
   }
  }
 },
 "nbformat": 4,
 "nbformat_minor": 4
}
